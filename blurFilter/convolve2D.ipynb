{
 "cells": [
  {
   "cell_type": "code",
   "execution_count": 83,
   "metadata": {},
   "outputs": [],
   "source": [
    "import numpy as np\n",
    "import matplotlib.pyplot as plt \n",
    "from PIL import Image"
   ]
  },
  {
   "cell_type": "code",
   "execution_count": 84,
   "metadata": {},
   "outputs": [
    {
     "data": {
      "text/plain": [
       "array([[ 0., -4.,  0.],\n",
       "       [-4.,  8., -4.],\n",
       "       [ 0., -4.,  0.]])"
      ]
     },
     "metadata": {},
     "output_type": "display_data"
    },
    {
     "data": {
      "text/plain": [
       "array([[ 1.,  2.,  1.],\n",
       "       [ 0.,  0.,  0.],\n",
       "       [-1., -2., -1.]])"
      ]
     },
     "metadata": {},
     "output_type": "display_data"
    }
   ],
   "source": [
    "imName  = 'imagem.png'  #input('Nome do Arquivo:')\n",
    "im      = Image.open(imName)\n",
    "imArray = np.array(im)\n",
    "\n",
    "y = 0\n",
    "x = 255\n",
    "\n",
    "ksize = 3\n",
    "kernel1 = np.array([[1,0,-1],[2,0,-2],[1,0,-1]]).astype('float').T # Sobel\n",
    "# Filtro detector de borda\n",
    "kernel= np.array(\n",
    "     [\n",
    "        [ 0, -4,  0],\n",
    "        [-4, 8, -4],\n",
    "        [ 0, -4,  0]\n",
    "    ]\n",
    ").astype('float').T\n",
    "display(kernel,kernel1)"
   ]
  },
  {
   "cell_type": "code",
   "execution_count": 85,
   "metadata": {},
   "outputs": [],
   "source": [
    "# Obter Região\n",
    "region = imArray[y-ksize//2:y+ksize//2+1,x-ksize//2:x+ksize//2+1]"
   ]
  },
  {
   "cell_type": "code",
   "execution_count": 86,
   "metadata": {},
   "outputs": [],
   "source": [
    "# Saída Para cada Píxel\n",
    "im_out = np.zeros((imArray.shape))\n",
    "for y in range(ksize//2, imArray.shape[0]-ksize//2):\n",
    "    for x in range(ksize//2, imArray.shape[1]-ksize//2):\n",
    "        region = imArray[y-ksize//2:y+ksize//2+1,x-ksize//2:x+ksize//2+1]\n",
    "        for i in range(ksize):\n",
    "            for j in range(ksize):\n",
    "                im_out[y,x] += region[i,j]*kernel[i,j]\n"
   ]
  },
  {
   "cell_type": "code",
   "execution_count": 87,
   "metadata": {},
   "outputs": [
    {
     "name": "stderr",
     "output_type": "stream",
     "text": [
      "Clipping input data to the valid range for imshow with RGB data ([0..1] for floats or [0..255] for integers).\n"
     ]
    },
    {
     "data": {
      "image/png": "[encoded data removed]",
      "text/plain": [
       "<Figure size 432x288 with 1 Axes>"
      ]
     },
     "metadata": {
      "needs_background": "light"
     },
     "output_type": "display_data"
    }
   ],
   "source": [
    "# Usando indexação do numpy\n",
    "im_out = np.zeros((imArray.shape))\n",
    "for y in range(ksize//2, imArray.shape[0]-ksize//2):\n",
    "    for x in range(ksize//2, imArray.shape[1]-ksize//2):\n",
    "        im_out[y,x] = (imArray[y-ksize//2:y+ksize//2+1,x-ksize//2:x+ksize//2+1]*kernel).sum()\n",
    "\n",
    "plt.figure()\n",
    "plt.imshow(im_out)\n",
    "plt.show()"
   ]
  }
 ],
 "metadata": {
  "interpreter": {
   "hash": "c447c3cb8524a32dffcb5b7dc5949d51da75a9fa8c9e67fdc0a3ad2d0514cf36"
  },
  "kernelspec": {
   "display_name": "Python 3.10.0 64-bit",
   "language": "python",
   "name": "python3"
  },
  "language_info": {
   "codemirror_mode": {
    "name": "ipython",
    "version": 3
   },
   "file_extension": ".py",
   "mimetype": "text/x-python",
   "name": "python",
   "nbconvert_exporter": "python",
   "pygments_lexer": "ipython3",
   "version": "3.10.0"
  },
  "orig_nbformat": 4
 },
 "nbformat": 4,
 "nbformat_minor": 2
}

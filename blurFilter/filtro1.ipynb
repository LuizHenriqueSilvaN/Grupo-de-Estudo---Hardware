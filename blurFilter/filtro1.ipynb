{
 "cells": [
  {
   "cell_type": "code",
   "execution_count": 3,
   "metadata": {},
   "outputs": [],
   "source": [
    "import numpy as np\n",
    "import matplotlib.pyplot as plt   #plt.imshow para mostar imagens na tela\n",
    "import imageio                    # im.imread e im.imsave para carregar e salvar imagens em .png\n"
   ]
  },
  {
   "cell_type": "code",
   "execution_count": 4,
   "metadata": {},
   "outputs": [],
   "source": [
    "# cores básicas \n",
    "red   = (255,0,0)\n",
    "green = (0,255,0)\n",
    "blue  = (0,0,255)\n",
    "black = (0,0,0)\n",
    "white = (255,255,255)\n"
   ]
  },
  {
   "cell_type": "code",
   "execution_count": 5,
   "metadata": {},
   "outputs": [],
   "source": [
    "# alguns filtros de convolução \n",
    "blurFilter = np.array(\n",
    "    [\n",
    "        [0, 1, 2, 1, 0],\n",
    "        [1, 2, 4, 2, 1],\n",
    "        [2, 4, 8, 4, 2],\n",
    "        [1, 2, 4, 2, 1],\n",
    "        [0, 1, 2, 1, 0]\n",
    "    ]\n",
    ")\n",
    "\n",
    "# Filtro detector de borda\n",
    "borderFilter = np.array(\n",
    "     [\n",
    "        [ 0, -4,  0],\n",
    "        [-4, 16, -4],\n",
    "        [ 0, -4,  0]\n",
    "    ]\n",
    ")"
   ]
  },
  {
   "cell_type": "markdown",
   "metadata": {},
   "source": [
    "Programa Principal"
   ]
  },
  {
   "cell_type": "code",
   "execution_count": 6,
   "metadata": {},
   "outputs": [],
   "source": [
    "def main():\n",
    "    # leitura dos parâmetros\n",
    "    #in_Name  = input('Nome do Arquivo de entrada (.pgn):')\n",
    "    #out_Name = input('Nome do Arquivo na Saída (.pgn):')\n",
    "    threshold  = int(input('Limiar desejado (Número inteiro):'))\n",
    "\n",
    "    # carrega a imagem de entrada\n",
    "    in_imag = Image() # entrada\n",
    "    in_imag.load('Image.png') # carregamento da entrada\n",
    "    #print('Imagem de Entrada:', in_Name)\n",
    "    in_imag.show() # mostra a entrada\n",
    "\n",
    "    # pré-processamento para segmentar as bordas\n",
    "    print('Imagem na Escala Cinza')\n",
    "    grayAux = in_imag.toGray() ################ FEITO ########\n",
    "    gray = grayAux[0]\n",
    "\n",
    "    # imagem Binarizada\n",
    "    print('Imagem Binarizada')\n",
    "    in_imag.binarize(threshold)\n",
    "\n",
    "    # normaliza os pesos dos filtros \n",
    "    blurKernel = blurFilter/blurFilter.sum() # borramento\n",
    "    #borramento elimina as bordas que são menos intensas\n",
    "    blurred = gray.filtre(blurKernel) ###########   2 - FALTA FAZER   ########\n",
    "\n",
    "\n",
    "\n",
    "    edges = blurred.segmentEdges(threshold) ######    3 - FALTA FAZER   #####\n",
    "    print('Imagem das bordas Segmentadas: ')\n",
    "    edges.show()\n",
    "\n",
    "\n",
    "    #realce das bordas na imagem original\n",
    "    painted = in_imag.paint(black, edges) ######   4 - FALTA FAZER   ###########\n",
    "    print('Imagens com bordas realçadas')\n",
    "    painted.show()\n",
    "\n",
    "    # Salvar o resultado\n",
    "    painted.saved('Outfile')\n",
    "    #print('A imagem realçada foi salva em', out_Name)\n",
    "  "
   ]
  },
  {
   "cell_type": "markdown",
   "metadata": {},
   "source": [
    "CLASSE IMAGEM"
   ]
  },
  {
   "cell_type": "code",
   "execution_count": 11,
   "metadata": {},
   "outputs": [],
   "source": [
    "class Image:\n",
    "\n",
    "    #--------------------------------------------------------------------------------------------------------------------\n",
    "    \n",
    "    def _init_(self, array = None): \n",
    "        #Construtor de um objeto Imagem, que recebe um array com o conteúdo da imagem.\n",
    "        if array is not None:\n",
    "            self.data = np.copy(array)\n",
    "        else:\n",
    "            self.data = None \n",
    "\n",
    "    def getpixel(self, lin, col): \n",
    "        # (self, inteiro, inteiro) >>> retorna o valor do pixel na posição (lin, col)\n",
    "        return self.data[lin,col]\n",
    "\n",
    "    def setpixel(self, lin, col, valor): \n",
    "        # (self, inteiro, inteiro) >>> atribui valor ao pixel na posição (lin, col)\n",
    "        self.data[lin, col] = valor\n",
    "\n",
    "    def load(self, file): \n",
    "        # (Str) >>> None; arquivo extensão .png\n",
    "        self.data = imageio.imread(file)\n",
    "\n",
    "    def saved(self, file):\n",
    "         # (Str) >>> None; Aqui também será salvo em extensão .png\n",
    "        imageio.imsave(file,self.data)\n",
    "\n",
    "    #----------------------------------------------------------------------------------------------------------------------\n",
    "    \n",
    "    def show(self): \n",
    "        # (self) >>> None; Exibir imagem numa janela\n",
    "        s = self.data.shape\n",
    "        if len(s) == 2:\n",
    "            #níveis de cinza\n",
    "            plt.imshow(self.data, cmap = 'gray')\n",
    "        else:\n",
    "            #imagem colorida\n",
    "            plt.imshow(self.data)\n",
    "    \n",
    "        plt.show()\n",
    "\n",
    "    #--------------------------------------------------------------------------------------------------------------------    \n",
    "    \n",
    "    def toGray(self): \n",
    "        # (self) >>> Retorna uma imagem convertida para cinza. Para tanto é preciso carregar uma imagem colorida em .png\n",
    "        \n",
    "        \"\"\"\n",
    "        rgb_greyscale = np.zeros( (rgb.shape[0],rgb.shape[1]), dtype=np.uint8)\n",
    "        for row in range(0, rgb.shape[0]):\n",
    "            for col in range(0, rgb.shape[1]):\n",
    "                rgb_greyscale[row][col] = int(0.2126 * rgb[row][col][0] + 0.7152 * rgb[row][col][1] + 0.0722 * rgb[row][col][2])\n",
    "        return rgb_greyscale\n",
    "        \"\"\"\n",
    "\n",
    "        rgb = self.data\n",
    "        r, g, b = rgb[:,:,0], rgb[:,:,1], rgb[:,:,2]\n",
    "        gray = (0.2126 * r) + (0.7152 * g) + (0.0722 * b)\n",
    "\n",
    "        return [gray, plt.imshow(gray, cmap='gray')]\n",
    "\n",
    "    #--------------------------------------------------------------------------------------------------------------------\n",
    "    \n",
    "    # def binarize(self, threshold): \n",
    "    #     # (self, inteiro) >>> retorna uma imagem convertida para binário. \n",
    "    #     rgbBin = self.data\n",
    "    #     for row in range(0, rgbBin.shape[0]):\n",
    "    #         for col in range(0, rgbBin.shape[1]):\n",
    "    #             if rgbBin[row][col] <= threshold:\n",
    "    #                 rgbBin[row,col] = (0,0,0)\n",
    "    #             else:\n",
    "    #                 rgbBin[row,col] = (255,255,255)\n",
    "                \n",
    "    #     return [rgbBin, plt.imshow(rgbBin)]\n",
    "\n",
    "    #----------------------------------------------------------------------------------------------------------------------\n",
    "    \n",
    "    def binarize(self, threshold):\n",
    "        # (self, inteiro) >>> retorna uma imagem convertida para binário.\n",
    "        rgbBin = self.data\n",
    "        for row in range(0, rgbBin.shape[0]):\n",
    "            for col in range(0, rgbBin.shape[1]):\n",
    "                if (rgbBin[row][col] <= threshold).any():\n",
    "                    rgbBin[row, col] = (0, 0, 0, 0)\n",
    "                else:\n",
    "                    rgbBin[row, col] = (255, 255, 255, 255)\n",
    "\n",
    "        return [rgbBin, plt.imshow(rgbBin)]\n",
    "\n",
    "    #def filtre(self, filtro): \n",
    "        # (self, ndarray) >>> Imagem Cinza. Este Método retorna uma imagem da convolução de Self com o filtro.\n",
    "        # Como os valores do filtro são reais, os valores da imagem resultado também serão reais.\n",
    "\n",
    "\n",
    "    #----------------------------------------------------------------------------------------------------------------------    \n",
    "    \n",
    "    #def paint(self, color, mask): \n",
    "        # (self, cor, Imagem) >>> Imagem; Recebe uma imagem binária e pinta os pixels de self correspondentes aos pixels Trfue da mascara com a cor.\n",
    "        # Obeservar  que a cor  deve ter o mesmo numero de bits da imagem em self.\n",
    "    \n",
    "    #----------------------------------------------------------------------------------------------------------------------\n",
    "    \n",
    "    #def segmentEdges(self, threshold): \n",
    "        \"\"\"Assumir que self é uma imagem com níveis de cinza. \n",
    "        O método calcula as matrizes gradiente gH e gV\n",
    "        utilizando os filtros Sh e Sv de Sobel, e retorna uma imagem \n",
    "        binária com as mesmas dimensões da imagem cinza self, \n",
    "        onde os valores True satisfazem:\n",
    "        sqrt(gH*gH + gV*gV) > limiar.\n",
    "        Pixels que não satisfazem a condições devem receber False.\n",
    "\n",
    "        Importante: como o limiar é um número entre 0 e 255,\n",
    "        antes de aplicar o limiar (comparar), a imagem correspondente ao \n",
    "        módulo do gradiente (sqrt(gH*gH + gV*gV)) deve ser normalizada para\n",
    "        o intervalo 0 a 255.\"\"\"\n",
    "    #----------------------------------------------------------------------------------------------------------------------\n",
    "        "
   ]
  },
  {
   "cell_type": "markdown",
   "metadata": {},
   "source": [
    "$Execução$ $da$ $Main$"
   ]
  },
  {
   "cell_type": "code",
   "execution_count": 12,
   "metadata": {},
   "outputs": [
    {
     "data": {
      "image/png": "[encoded data removed]",
      "text/plain": [
       "<Figure size 432x288 with 1 Axes>"
      ]
     },
     "metadata": {
      "needs_background": "light"
     },
     "output_type": "display_data"
    },
    {
     "name": "stdout",
     "output_type": "stream",
     "text": [
      "Imagem na Escala Cinza\n",
      "Imagem Binarizada\n"
     ]
    },
    {
     "ename": "AttributeError",
     "evalue": "'Array' object has no attribute 'filtre'",
     "output_type": "error",
     "traceback": [
      "\u001b[1;31m---------------------------------------------------------------------------\u001b[0m",
      "\u001b[1;31mAttributeError\u001b[0m                            Traceback (most recent call last)",
      "\u001b[1;32mC:\\Users\\SILASJ~1\\AppData\\Local\\Temp/ipykernel_3744/451043146.py\u001b[0m in \u001b[0;36m<module>\u001b[1;34m\u001b[0m\n\u001b[1;32m----> 1\u001b[1;33m \u001b[0mmain\u001b[0m\u001b[1;33m(\u001b[0m\u001b[1;33m)\u001b[0m\u001b[1;33m\u001b[0m\u001b[1;33m\u001b[0m\u001b[0m\n\u001b[0m",
      "\u001b[1;32mC:\\Users\\SILASJ~1\\AppData\\Local\\Temp/ipykernel_3744/2607683921.py\u001b[0m in \u001b[0;36mmain\u001b[1;34m()\u001b[0m\n\u001b[0;32m     23\u001b[0m     \u001b[0mblurKernel\u001b[0m \u001b[1;33m=\u001b[0m \u001b[0mblurFilter\u001b[0m\u001b[1;33m/\u001b[0m\u001b[0mblurFilter\u001b[0m\u001b[1;33m.\u001b[0m\u001b[0msum\u001b[0m\u001b[1;33m(\u001b[0m\u001b[1;33m)\u001b[0m \u001b[1;31m# borramento\u001b[0m\u001b[1;33m\u001b[0m\u001b[1;33m\u001b[0m\u001b[0m\n\u001b[0;32m     24\u001b[0m     \u001b[1;31m#borramento elimina as bordas que são menos intensas\u001b[0m\u001b[1;33m\u001b[0m\u001b[1;33m\u001b[0m\u001b[0m\n\u001b[1;32m---> 25\u001b[1;33m     \u001b[0mblurred\u001b[0m \u001b[1;33m=\u001b[0m \u001b[0mgray\u001b[0m\u001b[1;33m.\u001b[0m\u001b[0mfiltre\u001b[0m\u001b[1;33m(\u001b[0m\u001b[0mblurKernel\u001b[0m\u001b[1;33m)\u001b[0m \u001b[1;31m###########   2 - FALTA FAZER   ########\u001b[0m\u001b[1;33m\u001b[0m\u001b[1;33m\u001b[0m\u001b[0m\n\u001b[0m\u001b[0;32m     26\u001b[0m \u001b[1;33m\u001b[0m\u001b[0m\n\u001b[0;32m     27\u001b[0m \u001b[1;33m\u001b[0m\u001b[0m\n",
      "\u001b[1;31mAttributeError\u001b[0m: 'Array' object has no attribute 'filtre'"
     ]
    },
    {
     "data": {
      "image/png": "[encoded data removed]",
      "text/plain": [
       "<Figure size 432x288 with 1 Axes>"
      ]
     },
     "metadata": {
      "needs_background": "light"
     },
     "output_type": "display_data"
    }
   ],
   "source": [
    "main()"
   ]
  }
 ],
 "metadata": {
  "interpreter": {
   "hash": "c447c3cb8524a32dffcb5b7dc5949d51da75a9fa8c9e67fdc0a3ad2d0514cf36"
  },
  "kernelspec": {
   "display_name": "Python 3.10.0 64-bit",
   "language": "python",
   "name": "python3"
  },
  "language_info": {
   "codemirror_mode": {
    "name": "ipython",
    "version": 3
   },
   "file_extension": ".py",
   "mimetype": "text/x-python",
   "name": "python",
   "nbconvert_exporter": "python",
   "pygments_lexer": "ipython3",
   "version": "3.9.9"
  },
  "orig_nbformat": 4
 },
 "nbformat": 4,
 "nbformat_minor": 2
}

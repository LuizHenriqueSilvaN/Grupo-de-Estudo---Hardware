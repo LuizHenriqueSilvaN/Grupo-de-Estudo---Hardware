{
 "cells": [
  {
   "cell_type": "code",
   "execution_count": 132,
   "metadata": {},
   "outputs": [],
   "source": [
    "import numpy as np\n",
    "from PIL import Image as Im"
   ]
  },
  {
   "cell_type": "code",
   "execution_count": 133,
   "metadata": {},
   "outputs": [],
   "source": [
    "img = 'imagem.png'\n",
    "im = Im.open(img)\n",
    "imArray = np.array(im)\n"
   ]
  },
  {
   "cell_type": "code",
   "execution_count": 134,
   "metadata": {},
   "outputs": [],
   "source": [
    "def change(cor, mean_nbr, rng):  # pega as cores do pixel\n",
    "\n",
    "    if cor > rng:\n",
    "        return (mean_nbr)\n",
    "    elif cor < 255 - rng:\n",
    "        return (mean_nbr)\n",
    "    else:\n",
    "        return cor"
   ]
  },
  {
   "cell_type": "code",
   "execution_count": 135,
   "metadata": {},
   "outputs": [],
   "source": [
    "def get_matriz_mean(im, i, j):  # pega a mediana dos valores das matrizes\n",
    "\n",
    "    #Cada matriz é criada com o valores das cores dos visinhos posições i,j de cada pixel\n",
    "\n",
    "    mtz_red = np.array(([im.getpixel((i - 1, j - 1))[0], im.getpixel((i - 1, j))[0], im.getpixel((1 - i, j + 1))[0]],\n",
    "                        [im.getpixel((i, j - 1))[0], im.getpixel((i, j))[0], im.getpixel((i, j + 1))[0]],\n",
    "                        [im.getpixel((i + 1, j - 1))[0], im.getpixel((i + 1, j))[0], im.getpixel((1 + i, j + 1))[0]]))\n",
    "\n",
    "    mtz_green = np.array(([im.getpixel((i - 1, j - 1))[1], im.getpixel((i - 1, j))[1], im.getpixel((1 - i, j + 1))[1]],\n",
    "                          [im.getpixel((i, j - 1))[1], im.getpixel((i, j))[1], im.getpixel((i, j + 1))[1]],\n",
    "                          [im.getpixel((i + 1, j - 1))[1], im.getpixel((i + 1, j))[1], im.getpixel((1 + i, j + 1))[1]]))\n",
    "\n",
    "    mtz_blue = np.array(([im.getpixel((i - 1, j - 1))[2], im.getpixel((i - 1, j))[2], im.getpixel((1 - i, j + 1))[2]],\n",
    "                         [im.getpixel((i, j - 1))[2], im.getpixel((i, j))[2], im.getpixel((i, j + 1))[2]],\n",
    "                         [im.getpixel((i + 1, j - 1))[2], im.getpixel((i + 1, j))[2], im.getpixel((1 + i, j + 1))[2]]))\n",
    "\n",
    "    rmean = mtz_red//2\n",
    "    gmean = mtz_green//2\n",
    "    bmean = mtz_blue//2\n",
    "\n",
    "    changed_colors = [rmean, gmean, bmean]  #retorna uma lista de valores dos eixos\n",
    "\n",
    "    return changed_colors"
   ]
  },
  {
   "cell_type": "code",
   "execution_count": 139,
   "metadata": {},
   "outputs": [],
   "source": [
    "def check_inside_matrix(im, i, j, rng):\n",
    "\n",
    "    mean_colors = get_matriz_mean(im, i, j)\n",
    "    cor = {}\n",
    "    color = []\n",
    "    for m in range(i - 1, i + 2):\n",
    "        for n in range(j - 1, j + 2):\n",
    "            colors = im.getpixel((m, n))\n",
    "            cor[(m, n)] = [change(colors[k], mean_colors[k], rng) for k in range(3)]\n",
    "    return color"
   ]
  },
  {
   "cell_type": "code",
   "execution_count": 140,
   "metadata": {},
   "outputs": [
    {
     "ename": "AttributeError",
     "evalue": "'list' object has no attribute 'keys'",
     "output_type": "error",
     "traceback": [
      "\u001b[1;31m---------------------------------------------------------------------------\u001b[0m",
      "\u001b[1;31mAttributeError\u001b[0m                            Traceback (most recent call last)",
      "\u001b[1;32m~\\AppData\\Local\\Temp/ipykernel_5508/4177456182.py\u001b[0m in \u001b[0;36m<module>\u001b[1;34m\u001b[0m\n\u001b[0;32m      5\u001b[0m     \u001b[1;32mfor\u001b[0m \u001b[0mj\u001b[0m \u001b[1;32min\u001b[0m \u001b[0mrange\u001b[0m\u001b[1;33m(\u001b[0m\u001b[1;36m1\u001b[0m\u001b[1;33m,\u001b[0m \u001b[0mlen\u001b[0m\u001b[1;33m(\u001b[0m\u001b[0mimArray\u001b[0m\u001b[1;33m[\u001b[0m\u001b[1;36m1\u001b[0m\u001b[1;33m]\u001b[0m\u001b[1;33m)\u001b[0m \u001b[1;33m-\u001b[0m \u001b[1;36m1\u001b[0m\u001b[1;33m,\u001b[0m \u001b[1;36m3\u001b[0m\u001b[1;33m)\u001b[0m\u001b[1;33m:\u001b[0m\u001b[1;33m\u001b[0m\u001b[1;33m\u001b[0m\u001b[0m\n\u001b[0;32m      6\u001b[0m         \u001b[0mcor\u001b[0m \u001b[1;33m=\u001b[0m \u001b[0mcheck_inside_matrix\u001b[0m\u001b[1;33m(\u001b[0m\u001b[0mim\u001b[0m\u001b[1;33m,\u001b[0m \u001b[0mi\u001b[0m\u001b[1;33m,\u001b[0m \u001b[0mj\u001b[0m\u001b[1;33m,\u001b[0m \u001b[1;36m200\u001b[0m\u001b[1;33m)\u001b[0m\u001b[1;33m\u001b[0m\u001b[1;33m\u001b[0m\u001b[0m\n\u001b[1;32m----> 7\u001b[1;33m         \u001b[1;32mfor\u001b[0m \u001b[0mc\u001b[0m \u001b[1;32min\u001b[0m \u001b[0mcor\u001b[0m\u001b[1;33m.\u001b[0m\u001b[0mkeys\u001b[0m\u001b[1;33m(\u001b[0m\u001b[1;33m)\u001b[0m\u001b[1;33m:\u001b[0m\u001b[1;33m\u001b[0m\u001b[1;33m\u001b[0m\u001b[0m\n\u001b[0m\u001b[0;32m      8\u001b[0m             \u001b[0mnew_colors\u001b[0m\u001b[1;33m[\u001b[0m\u001b[0mc\u001b[0m\u001b[1;33m]\u001b[0m \u001b[1;33m=\u001b[0m \u001b[1;33m[\u001b[0m\u001b[0mcor\u001b[0m\u001b[1;33m[\u001b[0m\u001b[0mc\u001b[0m\u001b[1;33m]\u001b[0m\u001b[1;33m[\u001b[0m\u001b[1;36m0\u001b[0m\u001b[1;33m]\u001b[0m\u001b[1;33m,\u001b[0m \u001b[0mcor\u001b[0m\u001b[1;33m[\u001b[0m\u001b[0mc\u001b[0m\u001b[1;33m]\u001b[0m\u001b[1;33m[\u001b[0m\u001b[1;36m1\u001b[0m\u001b[1;33m]\u001b[0m\u001b[1;33m,\u001b[0m \u001b[0mcor\u001b[0m\u001b[1;33m[\u001b[0m\u001b[0mc\u001b[0m\u001b[1;33m]\u001b[0m\u001b[1;33m[\u001b[0m\u001b[1;36m2\u001b[0m\u001b[1;33m]\u001b[0m\u001b[1;33m]\u001b[0m\u001b[1;33m\u001b[0m\u001b[1;33m\u001b[0m\u001b[0m\n\u001b[0;32m      9\u001b[0m \u001b[1;33m\u001b[0m\u001b[0m\n",
      "\u001b[1;31mAttributeError\u001b[0m: 'list' object has no attribute 'keys'"
     ]
    }
   ],
   "source": [
    "# execute a função check_inside_matriz na imagem inteira\n",
    "# aplicando com grupos de 9\n",
    "new_colors = {}\n",
    "for i in range(1, len(imArray[0])- 1, 3):\n",
    "    for j in range(1, len(imArray[1]) - 1, 3):\n",
    "        cor = check_inside_matrix(im, i, j, 200)\n",
    "        for c in cor.keys():\n",
    "            new_colors[c] = [cor[c][0], cor[c][1], cor[c][2]]\n",
    "\n",
    "        # retorna um dicionario com as posições e listas de cores\n",
    "\n",
    "keys = [k for k in new_colors.keys()]  # obtem as posiç\n",
    "for k in keys:\n",
    "    r, g, b = new_colors[(k)]  # get the values as a list\n",
    "    im.putpixel((k), (r, g, b))  # muda os valores das cores dos pixels\n",
    "\n",
    "im.save('imagem2')  # salva a imagem\n",
    "im2 = Im.open('imagem2')  # abre uma imagem nova\n",
    "im2.show()  # abre a imagem"
   ]
  }
 ],
 "metadata": {
  "interpreter": {
   "hash": "c447c3cb8524a32dffcb5b7dc5949d51da75a9fa8c9e67fdc0a3ad2d0514cf36"
  },
  "kernelspec": {
   "display_name": "Python 3.10.0 64-bit",
   "language": "python",
   "name": "python3"
  },
  "language_info": {
   "codemirror_mode": {
    "name": "ipython",
    "version": 3
   },
   "file_extension": ".py",
   "mimetype": "text/x-python",
   "name": "python",
   "nbconvert_exporter": "python",
   "pygments_lexer": "ipython3",
   "version": "3.10.0"
  },
  "orig_nbformat": 4
 },
 "nbformat": 4,
 "nbformat_minor": 2
}
